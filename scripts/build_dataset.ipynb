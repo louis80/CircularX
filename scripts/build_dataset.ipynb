{
 "cells": [
  {
   "cell_type": "markdown",
   "id": "0eecc958",
   "metadata": {},
   "source": [
    "- id_vente (int) : l’identifiant de la vente\n",
    "- nom_produit (str) : le nom du produit\n",
    "- nom_magasin (str) : le nom du magasin\n",
    "- date_vente (str) : la date de la vente au format 'AAAA-MM-JJ'\n",
    "- prix_vente (float) : le montant en euro de la vente"
   ]
  },
  {
   "cell_type": "code",
   "execution_count": 1,
   "id": "9ffb2303",
   "metadata": {},
   "outputs": [
    {
     "data": {
      "text/html": [
       "<div>\n",
       "<style scoped>\n",
       "    .dataframe tbody tr th:only-of-type {\n",
       "        vertical-align: middle;\n",
       "    }\n",
       "\n",
       "    .dataframe tbody tr th {\n",
       "        vertical-align: top;\n",
       "    }\n",
       "\n",
       "    .dataframe thead th {\n",
       "        text-align: right;\n",
       "    }\n",
       "</style>\n",
       "<table border=\"1\" class=\"dataframe\">\n",
       "  <thead>\n",
       "    <tr style=\"text-align: right;\">\n",
       "      <th></th>\n",
       "      <th>id_vente</th>\n",
       "      <th>nom_produit</th>\n",
       "      <th>nom_magasin</th>\n",
       "      <th>date_vente</th>\n",
       "      <th>prix_vente</th>\n",
       "    </tr>\n",
       "  </thead>\n",
       "  <tbody>\n",
       "    <tr>\n",
       "      <th>0</th>\n",
       "      <td>176558</td>\n",
       "      <td>USB-C Charging Cable</td>\n",
       "      <td>917 1st St, Dallas, TX 75001</td>\n",
       "      <td>04/19/19 08:46</td>\n",
       "      <td>5.975</td>\n",
       "    </tr>\n",
       "    <tr>\n",
       "      <th>2</th>\n",
       "      <td>176559</td>\n",
       "      <td>Bose SoundSport Headphones</td>\n",
       "      <td>682 Chestnut St, Boston, MA 02215</td>\n",
       "      <td>04/07/19 22:30</td>\n",
       "      <td>99.990</td>\n",
       "    </tr>\n",
       "    <tr>\n",
       "      <th>3</th>\n",
       "      <td>176560</td>\n",
       "      <td>Google Phone</td>\n",
       "      <td>669 Spruce St, Los Angeles, CA 90001</td>\n",
       "      <td>04/12/19 14:38</td>\n",
       "      <td>600.000</td>\n",
       "    </tr>\n",
       "    <tr>\n",
       "      <th>4</th>\n",
       "      <td>176560</td>\n",
       "      <td>Wired Headphones</td>\n",
       "      <td>669 Spruce St, Los Angeles, CA 90001</td>\n",
       "      <td>04/12/19 14:38</td>\n",
       "      <td>11.990</td>\n",
       "    </tr>\n",
       "    <tr>\n",
       "      <th>5</th>\n",
       "      <td>176561</td>\n",
       "      <td>Wired Headphones</td>\n",
       "      <td>333 8th St, Los Angeles, CA 90001</td>\n",
       "      <td>04/30/19 09:27</td>\n",
       "      <td>11.990</td>\n",
       "    </tr>\n",
       "  </tbody>\n",
       "</table>\n",
       "</div>"
      ],
      "text/plain": [
       "  id_vente                 nom_produit                           nom_magasin  \\\n",
       "0   176558        USB-C Charging Cable          917 1st St, Dallas, TX 75001   \n",
       "2   176559  Bose SoundSport Headphones     682 Chestnut St, Boston, MA 02215   \n",
       "3   176560                Google Phone  669 Spruce St, Los Angeles, CA 90001   \n",
       "4   176560            Wired Headphones  669 Spruce St, Los Angeles, CA 90001   \n",
       "5   176561            Wired Headphones     333 8th St, Los Angeles, CA 90001   \n",
       "\n",
       "       date_vente  prix_vente  \n",
       "0  04/19/19 08:46       5.975  \n",
       "2  04/07/19 22:30      99.990  \n",
       "3  04/12/19 14:38     600.000  \n",
       "4  04/12/19 14:38      11.990  \n",
       "5  04/30/19 09:27      11.990  "
      ]
     },
     "execution_count": 1,
     "metadata": {},
     "output_type": "execute_result"
    }
   ],
   "source": [
    "import pandas as pd \n",
    "\n",
    "def isfloat(num):\n",
    "    try:\n",
    "        float(num)\n",
    "        return True\n",
    "    except ValueError:\n",
    "        return False\n",
    "    \n",
    "    \n",
    "# Import des données et pré-processing\n",
    "df = pd.read_csv('../data/Sales_April_2019.csv').dropna()\n",
    "\n",
    "df = df[\n",
    "    (df['Price Each'].apply(isfloat)) & \n",
    "    (df['Quantity Ordered'].apply(isfloat))\n",
    "]\n",
    "\n",
    "# Calcul du prix de vente\n",
    "df['Price Each'] = df['Price Each'].apply(float)\n",
    "df['Quantity Ordered'] = df['Quantity Ordered'].apply(int)\n",
    "df['prix_vente'] = df['Price Each'] / df['Quantity Ordered']\n",
    "\n",
    "# Update des noms + sélection des colonnes\n",
    "df.rename(columns={\n",
    "    'Order ID': 'id_vente',\n",
    "    'Product': 'nom_produit',\n",
    "    'Purchase Address': 'nom_magasin', \n",
    "    'Order Date': 'date_vente', \n",
    "}, inplace=True)\n",
    "\n",
    "df = df[['id_vente', 'nom_produit', 'nom_magasin', 'date_vente', 'prix_vente']]\n",
    "df.head()\n",
    "\n"
   ]
  },
  {
   "cell_type": "code",
   "execution_count": 3,
   "id": "391f9c4c",
   "metadata": {},
   "outputs": [],
   "source": [
    "df.to_excel(\"../data/data_sample.xlsx\", index=False)\n"
   ]
  },
  {
   "cell_type": "code",
   "execution_count": 2,
   "id": "e27813c7",
   "metadata": {},
   "outputs": [
    {
     "data": {
      "text/plain": [
       "array(['USB-C Charging Cable', 'Bose SoundSport Headphones',\n",
       "       'Google Phone', 'Wired Headphones', 'Macbook Pro Laptop',\n",
       "       'Lightning Charging Cable', '27in 4K Gaming Monitor',\n",
       "       'AA Batteries (4-pack)', 'Apple Airpods Headphones',\n",
       "       'AAA Batteries (4-pack)', 'iPhone', 'Flatscreen TV',\n",
       "       '27in FHD Monitor', '20in Monitor', 'LG Dryer', 'ThinkPad Laptop',\n",
       "       'Vareebadd Phone', 'LG Washing Machine', '34in Ultrawide Monitor'],\n",
       "      dtype=object)"
      ]
     },
     "execution_count": 2,
     "metadata": {},
     "output_type": "execute_result"
    }
   ],
   "source": [
    "df.nom_produit.unique()"
   ]
  }
 ],
 "metadata": {
  "kernelspec": {
   "display_name": "Python 3",
   "language": "python",
   "name": "python3"
  },
  "language_info": {
   "codemirror_mode": {
    "name": "ipython",
    "version": 3
   },
   "file_extension": ".py",
   "mimetype": "text/x-python",
   "name": "python",
   "nbconvert_exporter": "python",
   "pygments_lexer": "ipython3",
   "version": "3.10.9"
  }
 },
 "nbformat": 4,
 "nbformat_minor": 5
}
