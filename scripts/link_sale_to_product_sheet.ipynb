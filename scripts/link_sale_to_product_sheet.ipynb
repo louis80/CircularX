{
 "cells": [
  {
   "cell_type": "code",
   "execution_count": 21,
   "id": "9ffb2303",
   "metadata": {},
   "outputs": [
    {
     "name": "stdout",
     "output_type": "stream",
     "text": [
      "Input :  Apple Iphone pro 14\n",
      ". Category identified :  phone\n",
      ". Brand identified :  apple\n"
     ]
    }
   ],
   "source": [
    "from fuzzywuzzy import fuzz\n",
    "\n",
    "list_categories = ['phone', 'monitor']\n",
    "list_brands = ['apple', 'lg', 'microsoft']\n",
    "list_features = ['wired', '4k', '20in', 'pro']\n",
    "\n",
    "def identify_matching_value_sale_label(label, list_, threshold=90):\n",
    "    list_similarity = [\n",
    "        (txt, fuzz.ratio(txt.lower(), sub_label.lower())) \n",
    "        for txt in list_ \n",
    "        for sub_label in label.split(' ')\n",
    "    ]\n",
    "    \n",
    "    if max(list_similarity, key=lambda x: x[1])[1] > threshold:\n",
    "        return max(list_similarity, key=lambda x: x[1])[0]\n",
    "    else:\n",
    "        return ''\n",
    "\n",
    "def match_sale_to_product_sheet(sale_label):\n",
    "    \"\"\"\n",
    "    Input : label of the sale \n",
    "    Output : product sheet id linked to the sale \n",
    "    \"\"\"\n",
    "    category_identified, brand_identified, product_features_identified = \"\", \"\", []\n",
    "\n",
    "    # 0. verification and pre-processing on the input \n",
    "\n",
    "    # 1. identify the category of the product (phone, monitor, ...)\n",
    "    category_identified = identify_matching_value_sale_label(sale_label, list_categories, threshold=90)\n",
    "    if category_identified == \"\":\n",
    "        return False\n",
    "\n",
    "    # 2. identify the brand of the product (Apple, LG, ...)\n",
    "    # list_brands should be obtained through a query of brands linked to the category identified\n",
    "    # the category identified should be removed from the sale_label \n",
    "    brand_identified = identify_matching_value_sale_label(sale_label, list_brands, threshold=90)\n",
    "\n",
    "    # 3. identify the feature of the product (ultrawide, version 2, ...)\n",
    "\n",
    "    # 4. find the product sheet matching those caracteristics \n",
    "\n",
    "    print('Input : ', sale_label)\n",
    "    print('. Category identified : ', category_identified)\n",
    "    print('. Brand identified : ', brand_identified)\n",
    "\n",
    "match_sale_to_product_sheet('Apple Iphone pro 14')\n"
   ]
  }
 ],
 "metadata": {
  "kernelspec": {
   "display_name": "Python 3",
   "language": "python",
   "name": "python3"
  },
  "language_info": {
   "codemirror_mode": {
    "name": "ipython",
    "version": 3
   },
   "file_extension": ".py",
   "mimetype": "text/x-python",
   "name": "python",
   "nbconvert_exporter": "python",
   "pygments_lexer": "ipython3",
   "version": "3.10.9"
  }
 },
 "nbformat": 4,
 "nbformat_minor": 5
}
