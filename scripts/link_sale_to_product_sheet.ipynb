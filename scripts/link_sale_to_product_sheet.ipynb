{
 "cells": [
  {
   "cell_type": "code",
   "execution_count": 38,
   "id": "9ffb2303",
   "metadata": {},
   "outputs": [
    {
     "name": "stdout",
     "output_type": "stream",
     "text": [
      "Input :  Apple Iphone pro 14\n",
      ". Category identified :  phone\n",
      ". Brand identified :  apple\n",
      "Output :  iPhone\n"
     ]
    }
   ],
   "source": [
    "from fuzzywuzzy import fuzz\n",
    "import sqlite3\n",
    "import pandas as pd \n",
    "\n",
    "def get_data_from_db(query, database='database.db'):\n",
    "    conn = sqlite3.connect(database)\n",
    "    df = pd.read_sql_query(query, conn)\n",
    "    conn.close()\n",
    "    return df\n",
    "\n",
    "def identify_matching_value_sale_label(label, list_, threshold=90):\n",
    "    list_similarity = [\n",
    "        (txt, fuzz.ratio(txt.lower(), sub_label.lower())) \n",
    "        for txt in list_ \n",
    "        for sub_label in label.split(' ')\n",
    "    ]\n",
    "    \n",
    "    if max(list_similarity, key=lambda x: x[1])[1] > threshold:\n",
    "        return max(list_similarity, key=lambda x: x[1])[0]\n",
    "    else:\n",
    "        return ''\n",
    "\n",
    "def match_sale_to_product_sheet(sale_label):\n",
    "    \"\"\"\n",
    "    Input : label of the sale \n",
    "    Output : product sheet id linked to the sale \n",
    "    \"\"\"\n",
    "    category_identified, brand_identified = \"\", \"\"\n",
    "\n",
    "    # 0. verification and pre-processing on the input \n",
    "\n",
    "    # 1. identify the category of the product (phone, monitor, ...)\n",
    "    df_category = get_data_from_db(\"SELECT * FROM category\", database='database.db')\n",
    "    list_category = list(df_category.category_label.values)\n",
    "    category_identified = identify_matching_value_sale_label(sale_label, list_category, threshold=90)\n",
    "    \n",
    "    if category_identified == \"\":\n",
    "        return False\n",
    "    \n",
    "    id_category = df_category[df_category.category_label == category_identified].category_id.values[0]\n",
    "\n",
    "    # 2. identify the brand of the product (Apple, LG, ...)\n",
    "    # the category identified should be removed from the sale_label\n",
    "    query_brand = \"\"\"\n",
    "        SELECT brand.* FROM brand  \n",
    "        JOIN product  \n",
    "            ON brand.brand_id = product.brand_id\n",
    "        WHERE category_id = {}\n",
    "    \"\"\".format(id_category) \n",
    "    \n",
    "    df_brand = get_data_from_db(query_brand, database='database.db')\n",
    "    list_brand = list(df_brand.brand_label.values)\n",
    "\n",
    "    if len(list_brand): \n",
    "        brand_identified = identify_matching_value_sale_label(sale_label, list_brand, threshold=90)\n",
    "\n",
    "    # 3. identify the feature of the product (ultrawide, version 2, ...)\n",
    "\n",
    "    # 4. find the product sheet matching those caracteristics \n",
    "    query_product = \"SELECT product_label FROM product WHERE category_id = {}\".format(id_category)\n",
    "    if brand_identified != '':\n",
    "        id_brand = df_brand[df_brand.brand_label == brand_identified].brand_id.values[0]\n",
    "        query_product += \" AND brand_id = {}\".format(id_brand)\n",
    "\n",
    "    df_product = get_data_from_db(query_product, database='database.db')\n",
    "\n",
    "    print('Input : ', sale_label)\n",
    "    print('. Category identified : ', category_identified)\n",
    "    print('. Brand identified : ', brand_identified)\n",
    "\n",
    "    if df_product.shape[0] == 1:\n",
    "        return df_product.product_label.values[0]\n",
    "    else: \n",
    "        return False\n",
    "    \n",
    "\n",
    "product_identified = match_sale_to_product_sheet('Apple Iphone pro 14')\n",
    "print('Output : ', product_identified)\n"
   ]
  },
  {
   "cell_type": "code",
   "execution_count": 40,
   "id": "f0807c69",
   "metadata": {},
   "outputs": [
    {
     "name": "stdout",
     "output_type": "stream",
     "text": [
      "Input :  Bose SoundSport Headphones\n",
      ". Category identified :  headphone\n",
      ". Brand identified :  bose\n",
      "Output :  Bose SoundSport Headphones\n"
     ]
    }
   ],
   "source": [
    "product_identified = match_sale_to_product_sheet('Bose SoundSport Headphones')\n",
    "print('Output : ', product_identified)"
   ]
  }
 ],
 "metadata": {
  "kernelspec": {
   "display_name": "Python 3",
   "language": "python",
   "name": "python3"
  },
  "language_info": {
   "codemirror_mode": {
    "name": "ipython",
    "version": 3
   },
   "file_extension": ".py",
   "mimetype": "text/x-python",
   "name": "python",
   "nbconvert_exporter": "python",
   "pygments_lexer": "ipython3",
   "version": "3.10.9"
  }
 },
 "nbformat": 4,
 "nbformat_minor": 5
}
